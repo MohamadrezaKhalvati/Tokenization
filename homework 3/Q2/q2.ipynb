{
 "cells": [
  {
   "cell_type": "markdown",
   "metadata": {},
   "source": [
    "### Ambiguous words:"
   ]
  },
  {
   "cell_type": "markdown",
   "metadata": {},
   "source": [
    " These are linguistic expressions that can be interpreted in multiple ways, leading to confusion or uncertainty. Ambiguity arises due to different meanings, contexts, or interpretations associated with a single word or phrase."
   ]
  },
  {
   "cell_type": "markdown",
   "metadata": {},
   "source": [
    "#### sentences with ambiguous words"
   ]
  },
  {
   "cell_type": "code",
   "execution_count": 38,
   "metadata": {},
   "outputs": [],
   "source": [
    "sentences = [\n",
    "    {\n",
    "        \"sentence\": \"Marcy got the bath ready for her daughter wearing a pink tutu.\",\n",
    "        \"keyword\": \"wearing\",\n",
    "    },\n",
    "    {\n",
    "        \"sentence\": \"Call me a taxi, please.\", \n",
    "        \"keyword\": \"call\"\n",
    "    },\n",
    "    {\n",
    "        \"sentence\": \"The detective found the suspect’s fingerprints on the glass.\",\n",
    "        \"keyword\": \"on\",\n",
    "    },\n",
    "    {\n",
    "        \"sentence\": \"I’ve never tasted chicken cooked that way before!\",\n",
    "        \"keyword\": \"way\"\n",
    "     },\n",
    "    {\n",
    "        \"sentence\": \"they are flying planes.\", \n",
    "        \"keyword\": \"flying\"\n",
    "    },\n",
    "]"
   ]
  },
  {
   "cell_type": "markdown",
   "metadata": {},
   "source": [
    "#### Import libraries"
   ]
  },
  {
   "cell_type": "code",
   "execution_count": 39,
   "metadata": {},
   "outputs": [],
   "source": [
    "import nltk\n",
    "from nltk.wsd import lesk\n",
    "from nltk.tokenize import word_tokenize\n"
   ]
  },
  {
   "cell_type": "markdown",
   "metadata": {},
   "source": [
    "#### the core function to lesk the keyword depends on the sentence"
   ]
  },
  {
   "cell_type": "code",
   "execution_count": 40,
   "metadata": {},
   "outputs": [],
   "source": [
    "def get_semantic(seq, keyword):\n",
    "    temp = word_tokenize(seq)\n",
    "    temp = lesk(temp, keyword)\n",
    "    print(f\"The meaning of the '{keyword}' , is : {temp.definition()} \")"
   ]
  },
  {
   "cell_type": "markdown",
   "metadata": {},
   "source": [
    "#### print the meaning of the ambiguous words"
   ]
  },
  {
   "cell_type": "code",
   "execution_count": 41,
   "metadata": {},
   "outputs": [
    {
     "name": "stdout",
     "output_type": "stream",
     "text": [
      "The meaning of the 'wearing' , is : the act of having on your person as a covering or adornment \n",
      "The meaning of the 'call' , is : pay a brief visit \n",
      "The meaning of the 'on' , is : in a state required for something to function or be effective \n",
      "The meaning of the 'way' , is : a general category of things; used in the expression `in the way of' \n",
      "The meaning of the 'flying' , is : decrease rapidly and disappear \n"
     ]
    }
   ],
   "source": [
    "for dic in sentences:\n",
    "    get_semantic(dic[\"sentence\"], dic[\"keyword\"])"
   ]
  }
 ],
 "metadata": {
  "kernelspec": {
   "display_name": "Python 3",
   "language": "python",
   "name": "python3"
  },
  "language_info": {
   "codemirror_mode": {
    "name": "ipython",
    "version": 3
   },
   "file_extension": ".py",
   "mimetype": "text/x-python",
   "name": "python",
   "nbconvert_exporter": "python",
   "pygments_lexer": "ipython3",
   "version": "3.10.11"
  }
 },
 "nbformat": 4,
 "nbformat_minor": 2
}
