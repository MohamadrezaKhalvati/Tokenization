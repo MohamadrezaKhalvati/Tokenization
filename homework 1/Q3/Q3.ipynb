{
 "cells": [
  {
   "cell_type": "markdown",
   "metadata": {},
   "source": [
    "## Question 3:\n",
    "implement alghorithm to find word started with(im,in,un) and word ended with (ing,s,es,er) and remove from the content "
   ]
  },
  {
   "cell_type": "markdown",
   "metadata": {},
   "source": [
    "import library"
   ]
  },
  {
   "cell_type": "code",
   "execution_count": null,
   "metadata": {},
   "outputs": [],
   "source": [
    "import re"
   ]
  },
  {
   "cell_type": "markdown",
   "metadata": {},
   "source": [
    "Read file"
   ]
  },
  {
   "cell_type": "code",
   "execution_count": null,
   "metadata": {},
   "outputs": [],
   "source": [
    "with open(\"./../Content/text.txt\", 'r') as file:\n",
    "    file_contents = file.read()"
   ]
  },
  {
   "cell_type": "markdown",
   "metadata": {},
   "source": [
    "Main algorithm"
   ]
  },
  {
   "cell_type": "code",
   "execution_count": null,
   "metadata": {},
   "outputs": [],
   "source": [
    "started_pattern = r'\\b(?:in|im|un)\\w+\\b'\n",
    "finished_pattern = r'\\b\\w+(?:ing|s|es|er)\\b'\n",
    "to_remove_started_word = re.findall(started_pattern, file_contents)\n",
    "to_remove_finished_word = re.findall(finished_pattern, file_contents)\n",
    "\n",
    "to_remove_all = to_remove_finished_word + to_remove_started_word\n",
    "\n",
    "filtered_text = file_contents\n",
    "for word in to_remove_all : \n",
    "    filtered_text = re.sub(word, '', file_contents)\n",
    "print(\"filtered content:\", filtered_text)"
   ]
  }
 ],
 "metadata": {
  "kernelspec": {
   "display_name": "Python 3",
   "language": "python",
   "name": "python3"
  },
  "language_info": {
   "codemirror_mode": {
    "name": "ipython",
    "version": 3
   },
   "file_extension": ".py",
   "mimetype": "text/x-python",
   "name": "python",
   "nbconvert_exporter": "python",
   "pygments_lexer": "ipython3",
   "version": "3.10.11"
  }
 },
 "nbformat": 4,
 "nbformat_minor": 2
}
