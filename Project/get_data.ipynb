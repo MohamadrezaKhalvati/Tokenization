{
 "cells": [
  {
   "cell_type": "code",
   "execution_count": 54,
   "metadata": {},
   "outputs": [],
   "source": [
    "from apify_client import ApifyClient\n",
    "from dotenv import load_dotenv\n",
    "import requests\n",
    "import os"
   ]
  },
  {
   "cell_type": "code",
   "execution_count": 55,
   "metadata": {},
   "outputs": [
    {
     "data": {
      "text/plain": [
       "True"
      ]
     },
     "execution_count": 55,
     "metadata": {},
     "output_type": "execute_result"
    }
   ],
   "source": [
    "load_dotenv()"
   ]
  },
  {
   "cell_type": "markdown",
   "metadata": {},
   "source": [
    "Read apify api token from env file"
   ]
  },
  {
   "cell_type": "code",
   "execution_count": 56,
   "metadata": {},
   "outputs": [],
   "source": [
    "api_token = os.getenv(\"API_TOKEN\")"
   ]
  },
  {
   "cell_type": "markdown",
   "metadata": {},
   "source": [
    "init apify"
   ]
  },
  {
   "cell_type": "code",
   "execution_count": 57,
   "metadata": {},
   "outputs": [],
   "source": [
    "apify_client = ApifyClient(api_token)"
   ]
  },
  {
   "cell_type": "markdown",
   "metadata": {},
   "source": [
    "Start an actor and wait for it to finish"
   ]
  },
  {
   "cell_type": "code",
   "execution_count": 58,
   "metadata": {},
   "outputs": [],
   "source": [
    "# actor_call = apify_client.actor(\"apify/instagram-comment-scraper\" ).call()"
   ]
  },
  {
   "cell_type": "code",
   "execution_count": 59,
   "metadata": {},
   "outputs": [],
   "source": [
    "from apify_client import ApifyClient\n",
    "\n",
    "# Initialize the ApifyClient with your API token\n",
    "client = ApifyClient(api_token)\n",
    "\n",
    "# Prepare the Actor input\n",
    "run_input = {\n",
    "    \"directUrls\": [\n",
    "        \"https://www.instagram.com/p/CH-MgQOn-7E/\",\n",
    "        \"https://www.instagram.com/p/Bi-hISIghYe/\",\n",
    "    ],\n",
    "    \"resultsLimit\": 24,\n",
    "}\n",
    "\n",
    "# Run the Actor and wait for it to finish\n",
    "run = client.actor(\"SbK00X0JYCPblD2wp\").call(run_input=run_input)\n",
    "\n"
   ]
  },
  {
   "cell_type": "code",
   "execution_count": 73,
   "metadata": {},
   "outputs": [],
   "source": [
    "# Fetch and print Actor results from the run's dataset (if there are any)\n",
    "\n",
    "# for item in client.dataset(run[\"defaultDatasetId\"]).iterate_items():\n",
    "data = []\n",
    "for item in client.dataset(run[\"defaultDatasetId\"]).iterate_items():\n",
    "    data.append(item)"
   ]
  },
  {
   "cell_type": "code",
   "execution_count": 75,
   "metadata": {},
   "outputs": [
    {
     "data": {
      "text/plain": [
       "{'postUrl': 'https://www.instagram.com/p/Bi-hISIghYe/',\n",
       " 'id': '18051456142526461',\n",
       " 'text': 'Miss you X😭',\n",
       " 'ownerUsername': 'aminjon_abdu',\n",
       " 'ownerProfilePicUrl': 'https://scontent-gru2-2.cdninstagram.com/v/t51.2885-19/413876876_324554420455439_1428834629810831677_n.jpg?stp=dst-jpg_s150x150&_nc_ht=scontent-gru2-2.cdninstagram.com&_nc_cat=111&_nc_ohc=O8t1WeemMakAX_XmxLL&edm=AP_V10EBAAAA&ccb=7-5&oh=00_AfBu1nEtUtvpTtNBHBD3Z1aSPhd4qWdkmO3IIWxuhuXB9g&oe=65A0D7AB&_nc_sid=2999b8',\n",
       " 'timestamp': '2024-01-08T20:15:15.000Z',\n",
       " 'likesCount': 0}"
      ]
     },
     "execution_count": 75,
     "metadata": {},
     "output_type": "execute_result"
    }
   ],
   "source": [
    "data[0]"
   ]
  }
 ],
 "metadata": {
  "kernelspec": {
   "display_name": "Python 3",
   "language": "python",
   "name": "python3"
  },
  "language_info": {
   "codemirror_mode": {
    "name": "ipython",
    "version": 3
   },
   "file_extension": ".py",
   "mimetype": "text/x-python",
   "name": "python",
   "nbconvert_exporter": "python",
   "pygments_lexer": "ipython3",
   "version": "3.10.11"
  }
 },
 "nbformat": 4,
 "nbformat_minor": 2
}
