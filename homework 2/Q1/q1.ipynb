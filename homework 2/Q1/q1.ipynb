{
 "cells": [
  {
   "cell_type": "markdown",
   "metadata": {},
   "source": [
    " Importing libraries"
   ]
  },
  {
   "cell_type": "code",
   "execution_count": 92,
   "metadata": {},
   "outputs": [],
   "source": [
    "\n",
    "import nltk, re, pprint\n",
    "import numpy as np\n",
    "import pandas as pd\n",
    "import requests\n",
    "import matplotlib.pyplot as plt\n",
    "import seaborn as sns\n",
    "import pprint, time\n",
    "import random\n",
    "from sklearn.model_selection import train_test_split\n",
    "from nltk.tokenize import word_tokenize"
   ]
  },
  {
   "cell_type": "markdown",
   "metadata": {},
   "source": [
    "reading the Treebank tagged sentences"
   ]
  },
  {
   "cell_type": "code",
   "execution_count": 93,
   "metadata": {},
   "outputs": [
    {
     "name": "stderr",
     "output_type": "stream",
     "text": [
      "[nltk_data] Downloading package treebank to\n",
      "[nltk_data]     C:\\Users\\alire\\AppData\\Roaming\\nltk_data...\n",
      "[nltk_data]   Package treebank is already up-to-date!\n"
     ]
    }
   ],
   "source": [
    "nltk.download(\"treebank\")\n",
    "wsj = list(nltk.corpus.treebank.tagged_sents())"
   ]
  },
  {
   "cell_type": "markdown",
   "metadata": {},
   "source": [
    "first few tagged sentences"
   ]
  },
  {
   "cell_type": "code",
   "execution_count": 94,
   "metadata": {},
   "outputs": [
    {
     "name": "stdout",
     "output_type": "stream",
     "text": [
      "[[('Pierre', 'NNP'), ('Vinken', 'NNP'), (',', ','), ('61', 'CD'), ('years', 'NNS'), ('old', 'JJ'), (',', ','), ('will', 'MD'), ('join', 'VB'), ('the', 'DT'), ('board', 'NN'), ('as', 'IN'), ('a', 'DT'), ('nonexecutive', 'JJ'), ('director', 'NN'), ('Nov.', 'NNP'), ('29', 'CD'), ('.', '.')], [('Mr.', 'NNP'), ('Vinken', 'NNP'), ('is', 'VBZ'), ('chairman', 'NN'), ('of', 'IN'), ('Elsevier', 'NNP'), ('N.V.', 'NNP'), (',', ','), ('the', 'DT'), ('Dutch', 'NNP'), ('publishing', 'VBG'), ('group', 'NN'), ('.', '.')], [('Rudolph', 'NNP'), ('Agnew', 'NNP'), (',', ','), ('55', 'CD'), ('years', 'NNS'), ('old', 'JJ'), ('and', 'CC'), ('former', 'JJ'), ('chairman', 'NN'), ('of', 'IN'), ('Consolidated', 'NNP'), ('Gold', 'NNP'), ('Fields', 'NNP'), ('PLC', 'NNP'), (',', ','), ('was', 'VBD'), ('named', 'VBN'), ('*-1', '-NONE-'), ('a', 'DT'), ('nonexecutive', 'JJ'), ('director', 'NN'), ('of', 'IN'), ('this', 'DT'), ('British', 'JJ'), ('industrial', 'JJ'), ('conglomerate', 'NN'), ('.', '.')], [('A', 'DT'), ('form', 'NN'), ('of', 'IN'), ('asbestos', 'NN'), ('once', 'RB'), ('used', 'VBN'), ('*', '-NONE-'), ('*', '-NONE-'), ('to', 'TO'), ('make', 'VB'), ('Kent', 'NNP'), ('cigarette', 'NN'), ('filters', 'NNS'), ('has', 'VBZ'), ('caused', 'VBN'), ('a', 'DT'), ('high', 'JJ'), ('percentage', 'NN'), ('of', 'IN'), ('cancer', 'NN'), ('deaths', 'NNS'), ('among', 'IN'), ('a', 'DT'), ('group', 'NN'), ('of', 'IN'), ('workers', 'NNS'), ('exposed', 'VBN'), ('*', '-NONE-'), ('to', 'TO'), ('it', 'PRP'), ('more', 'RBR'), ('than', 'IN'), ('30', 'CD'), ('years', 'NNS'), ('ago', 'IN'), (',', ','), ('researchers', 'NNS'), ('reported', 'VBD'), ('0', '-NONE-'), ('*T*-1', '-NONE-'), ('.', '.')], [('The', 'DT'), ('asbestos', 'NN'), ('fiber', 'NN'), (',', ','), ('crocidolite', 'NN'), (',', ','), ('is', 'VBZ'), ('unusually', 'RB'), ('resilient', 'JJ'), ('once', 'IN'), ('it', 'PRP'), ('enters', 'VBZ'), ('the', 'DT'), ('lungs', 'NNS'), (',', ','), ('with', 'IN'), ('even', 'RB'), ('brief', 'JJ'), ('exposures', 'NNS'), ('to', 'TO'), ('it', 'PRP'), ('causing', 'VBG'), ('symptoms', 'NNS'), ('that', 'WDT'), ('*T*-1', '-NONE-'), ('show', 'VBP'), ('up', 'RP'), ('decades', 'NNS'), ('later', 'JJ'), (',', ','), ('researchers', 'NNS'), ('said', 'VBD'), ('0', '-NONE-'), ('*T*-2', '-NONE-'), ('.', '.')]]\n"
     ]
    }
   ],
   "source": [
    "print(wsj[:5])"
   ]
  },
  {
   "cell_type": "markdown",
   "metadata": {},
   "source": [
    "Splitting into train and test"
   ]
  },
  {
   "cell_type": "code",
   "execution_count": 95,
   "metadata": {},
   "outputs": [
    {
     "name": "stdout",
     "output_type": "stream",
     "text": [
      "2739\n",
      "1175\n",
      "[[('Few', 'JJ'), ('people', 'NNS'), ('think', 'VBP'), ('0', '-NONE-'), ('Mr.', 'NNP'), ('Spiegel', 'NNP'), ('wants', 'VBZ'), ('*-1', '-NONE-'), ('to', 'TO'), ('run', 'VB'), ('a', 'DT'), ('bread-and-butter', 'JJ'), ('thrift', 'NN'), (',', ','), ('which', 'WDT'), ('current', 'JJ'), ('rules', 'NNS'), ('would', 'MD'), ('force', 'VB'), ('Columbia', 'NNP'), ('to', 'TO'), ('become', 'VB'), ('*T*-2', '-NONE-'), ('.', '.')], [('Revenue', 'NN'), ('declined', 'VBD'), ('8', 'CD'), ('%', 'NN'), ('to', 'TO'), ('$', '$'), ('85.7', 'CD'), ('million', 'CD'), ('*U*', '-NONE-'), (',', ','), ('from', 'IN'), ('$', '$'), ('93.3', 'CD'), ('million', 'CD'), ('*U*', '-NONE-'), ('a', 'DT'), ('year', 'NN'), ('earlier', 'JJR'), ('.', '.')], [('Mrs.', 'NNP'), ('Ward', 'NNP'), ('says', 'VBZ'), ('0', '-NONE-'), ('she', 'PRP'), ('often', 'RB'), ('defended', 'VBD'), ('her', 'PRP'), ('to', 'TO'), ('colleagues', 'NNS'), ('who', 'WP'), ('*T*-91', '-NONE-'), ('called', 'VBD'), ('her', 'PRP'), ('a', 'DT'), ('grandstander', 'NN'), ('.', '.')], [('Columbia', 'NNP'), ('stock', 'NN'), ('recently', 'RB'), ('hit', 'VBD'), ('4', 'CD'), ('1\\\\/8', 'CD'), (',', ','), ('after', 'IN'), ('*', '-NONE-'), ('reaching', 'VBG'), ('11', 'CD'), ('3\\\\/4', 'CD'), ('earlier', 'RBR'), ('this', 'DT'), ('year', 'NN'), ('on', 'IN'), ('rumors', 'NNS'), ('that', 'IN'), ('Mr.', 'NNP'), ('Spiegel', 'NNP'), ('would', 'MD'), ('take', 'VB'), ('the', 'DT'), ('thrift', 'NN'), ('private', 'JJ'), ('.', '.')], [('Michelin', 'NNP'), ('Tyre', 'NNP'), ('is', 'VBZ'), ('a', 'DT'), ('unit', 'NN'), ('of', 'IN'), ('France', 'NNP'), (\"'s\", 'POS'), ('Michelin', 'NNP'), ('S.A', 'NNP'), ('.', '.')]]\n"
     ]
    }
   ],
   "source": [
    "random.seed(1234)\n",
    "train_set, test_set = train_test_split(wsj, test_size=0.3)\n",
    "\n",
    "print(len(train_set))\n",
    "print(len(test_set))\n",
    "print(train_set[:5])"
   ]
  },
  {
   "cell_type": "markdown",
   "metadata": {},
   "source": [
    " Getting list of tagged words"
   ]
  },
  {
   "cell_type": "code",
   "execution_count": 96,
   "metadata": {},
   "outputs": [
    {
     "data": {
      "text/plain": [
       "70485"
      ]
     },
     "execution_count": 96,
     "metadata": {},
     "output_type": "execute_result"
    }
   ],
   "source": [
    "train_tagged_words = [tup for sent in train_set for tup in sent]\n",
    "len(train_tagged_words)"
   ]
  },
  {
   "cell_type": "markdown",
   "metadata": {},
   "source": [
    "tokens "
   ]
  },
  {
   "cell_type": "code",
   "execution_count": 97,
   "metadata": {},
   "outputs": [
    {
     "data": {
      "text/plain": [
       "['Few', 'people', 'think', '0', 'Mr.', 'Spiegel', 'wants', '*-1', 'to', 'run']"
      ]
     },
     "execution_count": 97,
     "metadata": {},
     "output_type": "execute_result"
    }
   ],
   "source": [
    "tokens = [pair[0] for pair in train_tagged_words]\n",
    "tokens[:10]"
   ]
  },
  {
   "cell_type": "markdown",
   "metadata": {},
   "source": [
    "vocabulary"
   ]
  },
  {
   "cell_type": "code",
   "execution_count": 98,
   "metadata": {},
   "outputs": [
    {
     "name": "stdout",
     "output_type": "stream",
     "text": [
      "10366\n"
     ]
    }
   ],
   "source": [
    "V = set(tokens)\n",
    "print(len(V))"
   ]
  },
  {
   "cell_type": "markdown",
   "metadata": {},
   "source": [
    "number of tags"
   ]
  },
  {
   "cell_type": "code",
   "execution_count": 99,
   "metadata": {},
   "outputs": [
    {
     "data": {
      "text/plain": [
       "46"
      ]
     },
     "execution_count": 99,
     "metadata": {},
     "output_type": "execute_result"
    }
   ],
   "source": [
    "T = set([pair[1] for pair in train_tagged_words])\n",
    "len(T)"
   ]
  },
  {
   "cell_type": "code",
   "execution_count": 100,
   "metadata": {},
   "outputs": [
    {
     "name": "stdout",
     "output_type": "stream",
     "text": [
      "{'-NONE-', 'VBG', 'RBS', 'DT', 'NNPS', 'CC', 'WP$', '#', 'VBN', 'MD', 'VBD', 'RB', ':', 'JJR', 'SYM', 'IN', 'EX', '.', '``', 'TO', 'WDT', '-RRB-', '$', 'RP', 'JJ', 'RBR', 'VBP', 'NNS', 'WP', 'VB', 'PDT', 'POS', 'FW', '-LRB-', 'CD', 'UH', 'NN', 'LS', 'PRP', ',', 'JJS', 'VBZ', \"''\", 'PRP$', 'WRB', 'NNP'}\n"
     ]
    }
   ],
   "source": [
    "print(T)"
   ]
  },
  {
   "cell_type": "markdown",
   "metadata": {},
   "source": [
    "compute word given tag: Emission Probabilit"
   ]
  },
  {
   "cell_type": "code",
   "execution_count": 101,
   "metadata": {},
   "outputs": [],
   "source": [
    "def word_given_tag(word, tag, train_bag=train_tagged_words):\n",
    "    tag_list = [pair for pair in train_bag if pair[1] == tag]\n",
    "    count_tag = len(tag_list)\n",
    "    w_given_tag_list = [pair[0] for pair in tag_list if pair[0] == word]\n",
    "    count_w_given_tag = len(w_given_tag_list)\n",
    "\n",
    "    return (count_w_given_tag, count_tag)"
   ]
  },
  {
   "cell_type": "markdown",
   "metadata": {},
   "source": [
    "compute tag given tag: tag2(t2) given tag1 (t1), i.e. Transition Probability"
   ]
  },
  {
   "cell_type": "code",
   "execution_count": 102,
   "metadata": {},
   "outputs": [],
   "source": [
    "def t2_given_t1(t2, t1, train_bag=train_tagged_words):\n",
    "    tags = [pair[1] for pair in train_bag]\n",
    "    count_t1 = len([t for t in tags if t == t1])\n",
    "    count_t2_t1 = 0\n",
    "    for index in range(len(tags) - 1):\n",
    "        if tags[index] == t1 and tags[index + 1] == t2:\n",
    "            count_t2_t1 += 1\n",
    "    return (count_t2_t1, count_t1)"
   ]
  },
  {
   "cell_type": "markdown",
   "metadata": {},
   "source": [
    "creating t x t transition matrix of tags. \n",
    "\n",
    "each column is t2, each row is t1.\n",
    "\n",
    "thus M(i, j) represents P(tj given ti)"
   ]
  },
  {
   "cell_type": "code",
   "execution_count": 103,
   "metadata": {},
   "outputs": [],
   "source": [
    "tags_matrix = np.zeros((len(T), len(T)), dtype=\"float32\")\n",
    "for i, t1 in enumerate(list(T)):\n",
    "    for j, t2 in enumerate(list(T)):\n",
    "        tags_matrix[i, j] = t2_given_t1(t2, t1)[0] / t2_given_t1(t2, t1)[1]"
   ]
  },
  {
   "cell_type": "markdown",
   "metadata": {},
   "source": [
    "convert the matrix to a df for better readability"
   ]
  },
  {
   "cell_type": "code",
   "execution_count": 104,
   "metadata": {},
   "outputs": [],
   "source": [
    "tags_df = pd.DataFrame(tags_matrix, columns=list(T), index=list(T))"
   ]
  },
  {
   "cell_type": "code",
   "execution_count": 105,
   "metadata": {},
   "outputs": [
    {
     "data": {
      "text/html": [
       "<div>\n",
       "<style scoped>\n",
       "    .dataframe tbody tr th:only-of-type {\n",
       "        vertical-align: middle;\n",
       "    }\n",
       "\n",
       "    .dataframe tbody tr th {\n",
       "        vertical-align: top;\n",
       "    }\n",
       "\n",
       "    .dataframe thead th {\n",
       "        text-align: right;\n",
       "    }\n",
       "</style>\n",
       "<table border=\"1\" class=\"dataframe\">\n",
       "  <thead>\n",
       "    <tr style=\"text-align: right;\">\n",
       "      <th></th>\n",
       "      <th>-NONE-</th>\n",
       "      <th>VBG</th>\n",
       "      <th>RBS</th>\n",
       "      <th>DT</th>\n",
       "      <th>NNPS</th>\n",
       "      <th>CC</th>\n",
       "      <th>WP$</th>\n",
       "      <th>#</th>\n",
       "      <th>VBN</th>\n",
       "      <th>MD</th>\n",
       "      <th>...</th>\n",
       "      <th>NN</th>\n",
       "      <th>LS</th>\n",
       "      <th>PRP</th>\n",
       "      <th>,</th>\n",
       "      <th>JJS</th>\n",
       "      <th>VBZ</th>\n",
       "      <th>''</th>\n",
       "      <th>PRP$</th>\n",
       "      <th>WRB</th>\n",
       "      <th>NNP</th>\n",
       "    </tr>\n",
       "  </thead>\n",
       "  <tbody>\n",
       "    <tr>\n",
       "      <th>-NONE-</th>\n",
       "      <td>0.072980</td>\n",
       "      <td>0.081668</td>\n",
       "      <td>0.000217</td>\n",
       "      <td>0.051694</td>\n",
       "      <td>0.000000</td>\n",
       "      <td>0.010860</td>\n",
       "      <td>0.0</td>\n",
       "      <td>0.0</td>\n",
       "      <td>0.011729</td>\n",
       "      <td>0.015421</td>\n",
       "      <td>...</td>\n",
       "      <td>0.021286</td>\n",
       "      <td>0.000000</td>\n",
       "      <td>0.052129</td>\n",
       "      <td>0.051043</td>\n",
       "      <td>0.000434</td>\n",
       "      <td>0.038228</td>\n",
       "      <td>0.000000</td>\n",
       "      <td>0.004561</td>\n",
       "      <td>0.000869</td>\n",
       "      <td>0.038445</td>\n",
       "    </tr>\n",
       "    <tr>\n",
       "      <th>VBG</th>\n",
       "      <td>0.075435</td>\n",
       "      <td>0.002901</td>\n",
       "      <td>0.000967</td>\n",
       "      <td>0.193424</td>\n",
       "      <td>0.000967</td>\n",
       "      <td>0.015474</td>\n",
       "      <td>0.0</td>\n",
       "      <td>0.0</td>\n",
       "      <td>0.016441</td>\n",
       "      <td>0.000000</td>\n",
       "      <td>...</td>\n",
       "      <td>0.146035</td>\n",
       "      <td>0.000000</td>\n",
       "      <td>0.012573</td>\n",
       "      <td>0.020309</td>\n",
       "      <td>0.000000</td>\n",
       "      <td>0.000967</td>\n",
       "      <td>0.001934</td>\n",
       "      <td>0.026112</td>\n",
       "      <td>0.000000</td>\n",
       "      <td>0.032882</td>\n",
       "    </tr>\n",
       "    <tr>\n",
       "      <th>RBS</th>\n",
       "      <td>0.000000</td>\n",
       "      <td>0.000000</td>\n",
       "      <td>0.000000</td>\n",
       "      <td>0.000000</td>\n",
       "      <td>0.000000</td>\n",
       "      <td>0.000000</td>\n",
       "      <td>0.0</td>\n",
       "      <td>0.0</td>\n",
       "      <td>0.000000</td>\n",
       "      <td>0.000000</td>\n",
       "      <td>...</td>\n",
       "      <td>0.000000</td>\n",
       "      <td>0.000000</td>\n",
       "      <td>0.000000</td>\n",
       "      <td>0.000000</td>\n",
       "      <td>0.000000</td>\n",
       "      <td>0.000000</td>\n",
       "      <td>0.000000</td>\n",
       "      <td>0.000000</td>\n",
       "      <td>0.000000</td>\n",
       "      <td>0.000000</td>\n",
       "    </tr>\n",
       "    <tr>\n",
       "      <th>DT</th>\n",
       "      <td>0.001933</td>\n",
       "      <td>0.010192</td>\n",
       "      <td>0.002460</td>\n",
       "      <td>0.001406</td>\n",
       "      <td>0.002987</td>\n",
       "      <td>0.000000</td>\n",
       "      <td>0.0</td>\n",
       "      <td>0.0</td>\n",
       "      <td>0.011070</td>\n",
       "      <td>0.001230</td>\n",
       "      <td>...</td>\n",
       "      <td>0.472676</td>\n",
       "      <td>0.000000</td>\n",
       "      <td>0.000351</td>\n",
       "      <td>0.001230</td>\n",
       "      <td>0.010016</td>\n",
       "      <td>0.004744</td>\n",
       "      <td>0.000176</td>\n",
       "      <td>0.000176</td>\n",
       "      <td>0.000000</td>\n",
       "      <td>0.125813</td>\n",
       "    </tr>\n",
       "    <tr>\n",
       "      <th>NNPS</th>\n",
       "      <td>0.005952</td>\n",
       "      <td>0.000000</td>\n",
       "      <td>0.000000</td>\n",
       "      <td>0.005952</td>\n",
       "      <td>0.005952</td>\n",
       "      <td>0.071429</td>\n",
       "      <td>0.0</td>\n",
       "      <td>0.0</td>\n",
       "      <td>0.000000</td>\n",
       "      <td>0.035714</td>\n",
       "      <td>...</td>\n",
       "      <td>0.011905</td>\n",
       "      <td>0.000000</td>\n",
       "      <td>0.005952</td>\n",
       "      <td>0.136905</td>\n",
       "      <td>0.000000</td>\n",
       "      <td>0.023810</td>\n",
       "      <td>0.000000</td>\n",
       "      <td>0.000000</td>\n",
       "      <td>0.000000</td>\n",
       "      <td>0.345238</td>\n",
       "    </tr>\n",
       "    <tr>\n",
       "      <th>CC</th>\n",
       "      <td>0.008202</td>\n",
       "      <td>0.025868</td>\n",
       "      <td>0.000000</td>\n",
       "      <td>0.105994</td>\n",
       "      <td>0.002524</td>\n",
       "      <td>0.000000</td>\n",
       "      <td>0.0</td>\n",
       "      <td>0.0</td>\n",
       "      <td>0.017035</td>\n",
       "      <td>0.011356</td>\n",
       "      <td>...</td>\n",
       "      <td>0.116088</td>\n",
       "      <td>0.000631</td>\n",
       "      <td>0.044795</td>\n",
       "      <td>0.009464</td>\n",
       "      <td>0.001893</td>\n",
       "      <td>0.022082</td>\n",
       "      <td>0.000000</td>\n",
       "      <td>0.014511</td>\n",
       "      <td>0.003785</td>\n",
       "      <td>0.156467</td>\n",
       "    </tr>\n",
       "    <tr>\n",
       "      <th>WP$</th>\n",
       "      <td>0.000000</td>\n",
       "      <td>0.000000</td>\n",
       "      <td>0.000000</td>\n",
       "      <td>0.000000</td>\n",
       "      <td>0.000000</td>\n",
       "      <td>0.000000</td>\n",
       "      <td>0.0</td>\n",
       "      <td>0.0</td>\n",
       "      <td>0.000000</td>\n",
       "      <td>0.000000</td>\n",
       "      <td>...</td>\n",
       "      <td>0.444444</td>\n",
       "      <td>0.000000</td>\n",
       "      <td>0.000000</td>\n",
       "      <td>0.000000</td>\n",
       "      <td>0.000000</td>\n",
       "      <td>0.000000</td>\n",
       "      <td>0.000000</td>\n",
       "      <td>0.000000</td>\n",
       "      <td>0.000000</td>\n",
       "      <td>0.000000</td>\n",
       "    </tr>\n",
       "    <tr>\n",
       "      <th>#</th>\n",
       "      <td>0.000000</td>\n",
       "      <td>0.000000</td>\n",
       "      <td>0.000000</td>\n",
       "      <td>0.000000</td>\n",
       "      <td>0.000000</td>\n",
       "      <td>0.000000</td>\n",
       "      <td>0.0</td>\n",
       "      <td>0.0</td>\n",
       "      <td>0.000000</td>\n",
       "      <td>0.000000</td>\n",
       "      <td>...</td>\n",
       "      <td>0.000000</td>\n",
       "      <td>0.000000</td>\n",
       "      <td>0.000000</td>\n",
       "      <td>0.000000</td>\n",
       "      <td>0.000000</td>\n",
       "      <td>0.000000</td>\n",
       "      <td>0.000000</td>\n",
       "      <td>0.000000</td>\n",
       "      <td>0.000000</td>\n",
       "      <td>0.000000</td>\n",
       "    </tr>\n",
       "    <tr>\n",
       "      <th>VBN</th>\n",
       "      <td>0.551560</td>\n",
       "      <td>0.012890</td>\n",
       "      <td>0.000678</td>\n",
       "      <td>0.056988</td>\n",
       "      <td>0.000000</td>\n",
       "      <td>0.009498</td>\n",
       "      <td>0.0</td>\n",
       "      <td>0.0</td>\n",
       "      <td>0.025102</td>\n",
       "      <td>0.000000</td>\n",
       "      <td>...</td>\n",
       "      <td>0.069878</td>\n",
       "      <td>0.000000</td>\n",
       "      <td>0.002714</td>\n",
       "      <td>0.005427</td>\n",
       "      <td>0.000000</td>\n",
       "      <td>0.000678</td>\n",
       "      <td>0.004071</td>\n",
       "      <td>0.012212</td>\n",
       "      <td>0.000000</td>\n",
       "      <td>0.011533</td>\n",
       "    </tr>\n",
       "    <tr>\n",
       "      <th>MD</th>\n",
       "      <td>0.009331</td>\n",
       "      <td>0.000000</td>\n",
       "      <td>0.000000</td>\n",
       "      <td>0.003110</td>\n",
       "      <td>0.000000</td>\n",
       "      <td>0.000000</td>\n",
       "      <td>0.0</td>\n",
       "      <td>0.0</td>\n",
       "      <td>0.000000</td>\n",
       "      <td>0.000000</td>\n",
       "      <td>...</td>\n",
       "      <td>0.000000</td>\n",
       "      <td>0.000000</td>\n",
       "      <td>0.001555</td>\n",
       "      <td>0.000000</td>\n",
       "      <td>0.001555</td>\n",
       "      <td>0.000000</td>\n",
       "      <td>0.000000</td>\n",
       "      <td>0.000000</td>\n",
       "      <td>0.000000</td>\n",
       "      <td>0.001555</td>\n",
       "    </tr>\n",
       "  </tbody>\n",
       "</table>\n",
       "<p>10 rows × 46 columns</p>\n",
       "</div>"
      ],
      "text/plain": [
       "          -NONE-       VBG       RBS        DT      NNPS        CC  WP$    #  \\\n",
       "-NONE-  0.072980  0.081668  0.000217  0.051694  0.000000  0.010860  0.0  0.0   \n",
       "VBG     0.075435  0.002901  0.000967  0.193424  0.000967  0.015474  0.0  0.0   \n",
       "RBS     0.000000  0.000000  0.000000  0.000000  0.000000  0.000000  0.0  0.0   \n",
       "DT      0.001933  0.010192  0.002460  0.001406  0.002987  0.000000  0.0  0.0   \n",
       "NNPS    0.005952  0.000000  0.000000  0.005952  0.005952  0.071429  0.0  0.0   \n",
       "CC      0.008202  0.025868  0.000000  0.105994  0.002524  0.000000  0.0  0.0   \n",
       "WP$     0.000000  0.000000  0.000000  0.000000  0.000000  0.000000  0.0  0.0   \n",
       "#       0.000000  0.000000  0.000000  0.000000  0.000000  0.000000  0.0  0.0   \n",
       "VBN     0.551560  0.012890  0.000678  0.056988  0.000000  0.009498  0.0  0.0   \n",
       "MD      0.009331  0.000000  0.000000  0.003110  0.000000  0.000000  0.0  0.0   \n",
       "\n",
       "             VBN        MD  ...        NN        LS       PRP         ,  \\\n",
       "-NONE-  0.011729  0.015421  ...  0.021286  0.000000  0.052129  0.051043   \n",
       "VBG     0.016441  0.000000  ...  0.146035  0.000000  0.012573  0.020309   \n",
       "RBS     0.000000  0.000000  ...  0.000000  0.000000  0.000000  0.000000   \n",
       "DT      0.011070  0.001230  ...  0.472676  0.000000  0.000351  0.001230   \n",
       "NNPS    0.000000  0.035714  ...  0.011905  0.000000  0.005952  0.136905   \n",
       "CC      0.017035  0.011356  ...  0.116088  0.000631  0.044795  0.009464   \n",
       "WP$     0.000000  0.000000  ...  0.444444  0.000000  0.000000  0.000000   \n",
       "#       0.000000  0.000000  ...  0.000000  0.000000  0.000000  0.000000   \n",
       "VBN     0.025102  0.000000  ...  0.069878  0.000000  0.002714  0.005427   \n",
       "MD      0.000000  0.000000  ...  0.000000  0.000000  0.001555  0.000000   \n",
       "\n",
       "             JJS       VBZ        ''      PRP$       WRB       NNP  \n",
       "-NONE-  0.000434  0.038228  0.000000  0.004561  0.000869  0.038445  \n",
       "VBG     0.000000  0.000967  0.001934  0.026112  0.000000  0.032882  \n",
       "RBS     0.000000  0.000000  0.000000  0.000000  0.000000  0.000000  \n",
       "DT      0.010016  0.004744  0.000176  0.000176  0.000000  0.125813  \n",
       "NNPS    0.000000  0.023810  0.000000  0.000000  0.000000  0.345238  \n",
       "CC      0.001893  0.022082  0.000000  0.014511  0.003785  0.156467  \n",
       "WP$     0.000000  0.000000  0.000000  0.000000  0.000000  0.000000  \n",
       "#       0.000000  0.000000  0.000000  0.000000  0.000000  0.000000  \n",
       "VBN     0.000000  0.000678  0.004071  0.012212  0.000000  0.011533  \n",
       "MD      0.001555  0.000000  0.000000  0.000000  0.000000  0.001555  \n",
       "\n",
       "[10 rows x 46 columns]"
      ]
     },
     "execution_count": 105,
     "metadata": {},
     "output_type": "execute_result"
    }
   ],
   "source": [
    "tags_df.head(10)"
   ]
  },
  {
   "cell_type": "markdown",
   "metadata": {},
   "source": [
    "### Viterbi Algorithm"
   ]
  },
  {
   "cell_type": "code",
   "execution_count": 106,
   "metadata": {},
   "outputs": [
    {
     "data": {
      "text/plain": [
       "70485"
      ]
     },
     "execution_count": 106,
     "metadata": {},
     "output_type": "execute_result"
    }
   ],
   "source": [
    "len(train_tagged_words)"
   ]
  },
  {
   "cell_type": "markdown",
   "metadata": {},
   "source": [
    "Viterbi Heuristic"
   ]
  },
  {
   "cell_type": "code",
   "execution_count": 107,
   "metadata": {},
   "outputs": [],
   "source": [
    "def Viterbi(words, train_bag=train_tagged_words):\n",
    "    state = []\n",
    "    T = list(set([pair[1] for pair in train_bag]))\n",
    "\n",
    "    for key, word in enumerate(words):\n",
    "        # initialise list of probability column for a given observation\n",
    "        p = []\n",
    "        for tag in T:\n",
    "            if key == 0:\n",
    "                transition_p = tags_df.loc[\".\", tag]\n",
    "            else:\n",
    "                transition_p = tags_df.loc[state[-1], tag]\n",
    "\n",
    "            # compute emission and state probabilities\n",
    "            emission_p = (\n",
    "                word_given_tag(words[key], tag)[0] / word_given_tag(words[key], tag)[1]\n",
    "            )\n",
    "            state_probability = emission_p * transition_p\n",
    "            p.append(state_probability)\n",
    "\n",
    "        pmax = max(p)\n",
    "        # getting state for which probability is maximum\n",
    "        state_max = T[p.index(pmax)]\n",
    "        state.append(state_max)\n",
    "    return list(zip(words, state))"
   ]
  },
  {
   "cell_type": "markdown",
   "metadata": {},
   "source": [
    "### Evaluating on Test Set"
   ]
  },
  {
   "cell_type": "markdown",
   "metadata": {},
   "source": [
    "Running the Viterbi algorithm on a few sample sentences since running it on the entire data set will take many hours"
   ]
  },
  {
   "cell_type": "code",
   "execution_count": 108,
   "metadata": {},
   "outputs": [
    {
     "data": {
      "text/plain": [
       "[[('Mr.', 'NNP'),\n",
       "  ('Bernstein', 'NNP'),\n",
       "  ('said', 'VBD'),\n",
       "  ('0', '-NONE-'),\n",
       "  ('he', 'PRP'),\n",
       "  ('will', 'MD'),\n",
       "  ('stay', 'VB'),\n",
       "  ('until', 'IN'),\n",
       "  ('Dec.', 'NNP'),\n",
       "  ('31', 'CD'),\n",
       "  ('and', 'CC'),\n",
       "  ('work', 'VB'),\n",
       "  ('with', 'IN'),\n",
       "  ('his', 'PRP$'),\n",
       "  ('successor', 'NN'),\n",
       "  (',', ','),\n",
       "  ('who', 'WP'),\n",
       "  ('*T*-36', '-NONE-'),\n",
       "  ('is', 'VBZ'),\n",
       "  ('*-1', '-NONE-'),\n",
       "  ('to', 'TO'),\n",
       "  ('be', 'VB'),\n",
       "  ('named', 'VBN'),\n",
       "  ('*-43', '-NONE-'),\n",
       "  ('soon', 'RB'),\n",
       "  ('.', '.')]]"
      ]
     },
     "execution_count": 108,
     "metadata": {},
     "output_type": "execute_result"
    }
   ],
   "source": [
    "random.seed(1234)\n",
    "\n",
    "# choose random 5 sents\n",
    "rndom = [random.randint(1, len(test_set)) for x in range(5)]\n",
    "\n",
    "# list of sents\n",
    "test_run = [test_set[i] for i in rndom]\n",
    "\n",
    "# list of tagged words\n",
    "test_run_base = [tup for sent in test_run for tup in sent]\n",
    "\n",
    "# list of untagged words\n",
    "test_tagged_words = [tup[0] for sent in test_run for tup in sent]\n",
    "test_run[:1]"
   ]
  },
  {
   "cell_type": "markdown",
   "metadata": {},
   "source": [
    "tagging the test sentences"
   ]
  },
  {
   "cell_type": "code",
   "execution_count": 109,
   "metadata": {},
   "outputs": [],
   "source": [
    "start = time.time()\n",
    "tagged_seq = Viterbi(test_tagged_words)\n",
    "end = time.time()\n",
    "difference = end - start"
   ]
  },
  {
   "cell_type": "code",
   "execution_count": 110,
   "metadata": {},
   "outputs": [
    {
     "name": "stdout",
     "output_type": "stream",
     "text": [
      "Time taken in seconds:  99.33024287223816\n",
      "[('Mr.', 'NNP'), ('Bernstein', 'NNP'), ('said', 'VBD'), ('0', '-NONE-'), ('he', 'PRP'), ('will', 'MD'), ('stay', 'VB'), ('until', 'IN'), ('Dec.', 'NNP'), ('31', 'CD'), ('and', 'CC'), ('work', 'NN'), ('with', 'IN'), ('his', 'PRP$'), ('successor', 'NN'), (',', ','), ('who', 'WP'), ('*T*-36', '-NONE-'), ('is', 'VBZ'), ('*-1', '-NONE-'), ('to', 'TO'), ('be', 'VB'), ('named', 'VBN'), ('*-43', '-NONE-'), ('soon', 'RB'), ('.', '.'), ('Like', 'IN'), ('Jaguar', 'NNP'), (',', ','), ('B.A.T', '-NONE-'), ('also', 'RB'), ('eased', 'VBD'), ('off', 'RP'), ('its', 'PRP$'), ('highs', '-NONE-'), ('in', 'IN'), ('afternoon', 'NN'), ('dealings', 'NNS'), ('.', '.'), ('The', 'DT'), ('Treasury', 'NNP'), ('said', 'VBD'), ('0', '-NONE-'), ('the', 'DT'), ('refunding', 'NN'), ('is', 'VBZ'), ('contingent', '-NONE-'), ('upon', 'IN'), ('congressional', 'JJ'), ('and', 'CC'), ('presidential', '-NONE-'), ('passage', 'NN'), ('of', 'IN'), ('an', 'DT'), ('increase', 'NN'), ('in', 'IN'), ('the', 'DT'), ('federal', 'JJ'), ('debt', 'NN'), ('ceiling', 'NN'), ('.', '.'), ('Moody', 'NNP'), (\"'s\", 'POS'), ('said', 'VBD'), ('0', '-NONE-'), ('the', 'DT'), ('average', 'JJ'), ('net', 'NN'), ('asset', 'NN'), ('value', 'NN'), ('of', 'IN'), ('24', 'CD'), ('junk-bond', 'NN'), ('mutual', 'JJ'), ('funds', 'NNS'), ('fell', 'VBD'), ('by', 'IN'), ('4.2', 'CD'), ('%', 'NN'), ('in', 'IN'), ('October', 'NNP'), ('.', '.'), ('Without', 'IN'), ('the', 'DT'), ('Cray-3', 'NNP'), ('research', 'NN'), ('and', 'CC'), ('development', 'NN'), ('expenses', 'NNS'), (',', ','), ('the', 'DT'), ('company', 'NN'), ('would', 'MD'), ('have', 'VB'), ('been', 'VBN'), ('able', 'JJ'), ('*-2', '-NONE-'), ('to', 'TO'), ('report', 'VB'), ('a', 'DT'), ('profit', 'NN'), ('of', 'IN'), ('$', '$'), ('19.3', '-NONE-'), ('million', 'CD'), ('*U*', '-NONE-'), ('*ICH*-3', '-NONE-'), ('for', 'IN'), ('the', 'DT'), ('first', 'JJ'), ('half', 'NN'), ('of', 'IN'), ('1989', 'CD'), ('rather', 'RB'), ('than', 'IN'), ('the', 'DT'), ('$', '$'), ('5.9', '-NONE-'), ('million', 'CD'), ('*U*', '-NONE-'), ('0', '-NONE-'), ('it', 'PRP'), ('posted', 'VBD'), ('*T*-1', '-NONE-'), ('.', '.')]\n"
     ]
    }
   ],
   "source": [
    "print(\"Time taken in seconds: \", difference)\n",
    "print(tagged_seq)"
   ]
  },
  {
   "cell_type": "markdown",
   "metadata": {},
   "source": [
    "accuracy"
   ]
  },
  {
   "cell_type": "code",
   "execution_count": 111,
   "metadata": {},
   "outputs": [],
   "source": [
    "check = [i for i, j in zip(tagged_seq, test_run_base) if i == j]"
   ]
  },
  {
   "cell_type": "code",
   "execution_count": 112,
   "metadata": {},
   "outputs": [],
   "source": [
    "accuracy = len(check) / len(tagged_seq)"
   ]
  },
  {
   "cell_type": "code",
   "execution_count": 113,
   "metadata": {},
   "outputs": [
    {
     "data": {
      "text/plain": [
       "0.928"
      ]
     },
     "execution_count": 113,
     "metadata": {},
     "output_type": "execute_result"
    }
   ],
   "source": [
    "accuracy"
   ]
  },
  {
   "cell_type": "markdown",
   "metadata": {},
   "source": [
    "Testing"
   ]
  },
  {
   "cell_type": "code",
   "execution_count": 114,
   "metadata": {},
   "outputs": [],
   "source": [
    "sentence_test = \"Twitter is the best networking social site. Man is a social animal. Data science is an emerging field. Data science jobs are high in demand.\"\n",
    "words = word_tokenize(sentence_test)\n",
    "\n",
    "start = time.time()\n",
    "tagged_seq = Viterbi(words)\n",
    "end = time.time()\n",
    "difference = end - start"
   ]
  },
  {
   "cell_type": "code",
   "execution_count": 115,
   "metadata": {},
   "outputs": [
    {
     "name": "stdout",
     "output_type": "stream",
     "text": [
      "[('Twitter', '-NONE-'), ('is', 'VBZ'), ('the', 'DT'), ('best', 'JJS'), ('networking', '-NONE-'), ('social', 'JJ'), ('site', '-NONE-'), ('.', '.'), ('Man', 'NNP'), ('is', 'VBZ'), ('a', 'DT'), ('social', 'JJ'), ('animal', '-NONE-'), ('.', '.'), ('Data', 'NNP'), ('science', '-NONE-'), ('is', 'VBZ'), ('an', 'DT'), ('emerging', 'VBG'), ('field', 'NN'), ('.', '.'), ('Data', 'NNP'), ('science', '-NONE-'), ('jobs', 'NNS'), ('are', 'VBP'), ('high', 'JJ'), ('in', 'IN'), ('demand', 'NN'), ('.', '.')]\n",
      "26.670320987701416\n"
     ]
    }
   ],
   "source": [
    "print(tagged_seq)\n",
    "print(difference)"
   ]
  }
 ],
 "metadata": {
  "kernelspec": {
   "display_name": "Python 3",
   "language": "python",
   "name": "python3"
  },
  "language_info": {
   "codemirror_mode": {
    "name": "ipython",
    "version": 3
   },
   "file_extension": ".py",
   "mimetype": "text/x-python",
   "name": "python",
   "nbconvert_exporter": "python",
   "pygments_lexer": "ipython3",
   "version": "3.10.11"
  }
 },
 "nbformat": 4,
 "nbformat_minor": 2
}
