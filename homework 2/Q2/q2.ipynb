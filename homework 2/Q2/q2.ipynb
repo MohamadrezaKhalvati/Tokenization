{
 "cells": [
  {
   "cell_type": "markdown",
   "metadata": {},
   "source": [
    "### Import Libraries"
   ]
  },
  {
   "cell_type": "code",
   "execution_count": 30,
   "metadata": {},
   "outputs": [],
   "source": [
    "import nltk\n",
    "from nltk import CFG, ChartParser"
   ]
  },
  {
   "cell_type": "markdown",
   "metadata": {},
   "source": [
    "### Read files"
   ]
  },
  {
   "cell_type": "code",
   "execution_count": 31,
   "metadata": {},
   "outputs": [],
   "source": [
    "with open(\"./../Content/NLP2.txt\", \"r\") as f:\n",
    "    text = f.read()"
   ]
  },
  {
   "cell_type": "markdown",
   "metadata": {},
   "source": [
    "### Tokenizaion"
   ]
  },
  {
   "cell_type": "code",
   "execution_count": 32,
   "metadata": {},
   "outputs": [],
   "source": [
    "sentences = nltk.sent_tokenize(text)"
   ]
  },
  {
   "cell_type": "markdown",
   "metadata": {},
   "source": [
    "### Generate a grammer"
   ]
  },
  {
   "cell_type": "code",
   "execution_count": 33,
   "metadata": {},
   "outputs": [],
   "source": [
    "grammar = CFG.fromstring(\n",
    "    \"\"\"\n",
    "S -> NP VP\n",
    "NP -> DT NN | DT JJ NN | PRP | NNP\n",
    "VP -> VBD NP | VBD PP | VBD S | VBD\n",
    "PP -> IN NP\n",
    "DT -> 'Each' | 'A' | 'a' | 'the' | 'an' | 'The' | 'One' | 'one' | 'It' | 'its'\n",
    "NN -> 'enchantment' | 'touch' | 'time' | 'village' | 'girl' | 'curiosity' | 'spirit' | 'day' | 'outskirts' | 'cave' | 'depths' | 'locket' | 'engravings' | 'glow' | 'fairy' | 'power' | 'bearer' | 'realm' | 'journey' | 'land' | 'islands' | 'animals' | 'landscapes' | 'challenges' | 'friends' | 'owl' | 'trees' | 'sprite' | 'secrets' | 'caves' | 'adventure' | 'mysteries' | 'edge' | 'cliff' | 'sunset' | 'purpose' | 'guardian' | 'magic' | 'balance' | 'responsibility' | 'grace' | 'guide' | 'lessons' | 'life' | 'source' | 'inspiration' | 'tales' | 'joy' | 'wonders' | 'world' | 'words'\n",
    "JJ -> 'once-ordinary' | 'hesitant' | 'towering' | 'new' | 'small' | 'rolling' | 'dense' | 'young' | 'hidden' | 'ancient' | 'intricate' | 'faint' | 'magical' | 'tiny' | 'captivated' | 'enchanted' | 'floating' | 'talking' | 'mystical' | 'wise' | 'old' | 'mischievous' | 'water' | 'crystal' | 'breathtaking' | 'true' | 'ordinary' | 'extraordinary' | 'adventurous'\n",
    "VBD -> 'had' | 'lived' | 'was' | 'stumbled' | 'discovered' | 'touched' | 'came' | 'revealed' | 'explained' | 'held' | 'transport' | 'decided' | 'embark' | 'found' | 'explored' | 'encountered' | 'made' | 'guided' | 'taught' | 'brought' | 'stood' | 'overlooking' | 'revealed' | 'chosen' | 'be' | 'ensuring' | 'remained' | 'accepted' | 'returned' | 'bringing' | 'became' | 'sharing' | 'encouraging' | 'embrace' | 'transformed'\n",
    "IN -> 'into' | 'within' | 'though' | 'at' | 'in' | 'between' | 'and' | 'while' | 'upon' | 'to' | 'of' | 'with' | 'through' | 'on' | 'as' | 'by' | 'for' | 'As' | 'soon' | 'that' | 'With'\n",
    "PRP -> 'themselves' | 'It' | 'she' | 'her' | 'it' | 'its' | 'herself' | 'She'\n",
    "NNP -> 'Silver' | 'Cliff' | 'Celestial' | 'Crystal' | 'Elara' | 'Lumina' | 'Orion' | 'Naiad'\n",
    "RB -> 'Once' | 'first' | 'so'\n",
    "COMMA -> ','\n",
    "VBN -> 'filled' | 'nestled' | 'named' | 'known'\n",
    "NNS -> 'hills' | 'forests' | 'Trees' | 'Caves' | 'others'\n",
    "PERIOD -> '.'\n",
    "CD -> 'One' | 'one'\n",
    "VBG -> 'exploring' | 'revealing' | 'unraveling'\n",
    "POS -> \"'s\"\n",
    "JJR -> 'closer'\n",
    "CC -> 'And'\n",
    "\"\"\"\n",
    ")\n",
    "\n",
    "\n",
    "parser = ChartParser(grammar)"
   ]
  },
  {
   "cell_type": "markdown",
   "metadata": {},
   "source": [
    "### Generate a tree parser"
   ]
  },
  {
   "cell_type": "code",
   "execution_count": 34,
   "metadata": {},
   "outputs": [
    {
     "name": "stdout",
     "output_type": "stream",
     "text": [
      "Once upon a time, in a small village nestled between rolling hills and dense forests, lived a young girl named Elara.\n",
      "[('Once', 'RB'), ('upon', 'IN'), ('a', 'DT'), ('time', 'NN'), (',', ','), ('in', 'IN'), ('a', 'DT'), ('small', 'JJ'), ('village', 'NN'), ('nestled', 'VBN'), ('between', 'IN'), ('rolling', 'VBG'), ('hills', 'NNS'), ('and', 'CC'), ('dense', 'NN'), ('forests', 'NNS'), (',', ','), ('lived', 'VBD'), ('a', 'DT'), ('young', 'JJ'), ('girl', 'NN'), ('named', 'VBN'), ('Elara', 'NNP'), ('.', '.')]\n",
      "She was known for her curiosity and adventurous spirit.\n",
      "[('She', 'PRP'), ('was', 'VBD'), ('known', 'VBN'), ('for', 'IN'), ('her', 'PRP$'), ('curiosity', 'NN'), ('and', 'CC'), ('adventurous', 'JJ'), ('spirit', 'NN'), ('.', '.')]\n",
      "One day, while exploring the outskirts of the village, Elara stumbled upon a hidden cave.\n",
      "[('One', 'CD'), ('day', 'NN'), (',', ','), ('while', 'IN'), ('exploring', 'VBG'), ('the', 'DT'), ('outskirts', 'NNS'), ('of', 'IN'), ('the', 'DT'), ('village', 'NN'), (',', ','), ('Elara', 'NNP'), ('stumbled', 'VBD'), ('upon', 'IN'), ('a', 'DT'), ('hidden', 'JJ'), ('cave', 'NN'), ('.', '.')]\n",
      "the depths of the cave, she discovered an ancient locket with intricate engravings and a faint, magical glow.\n",
      "[('the', 'DT'), ('depths', 'NNS'), ('of', 'IN'), ('the', 'DT'), ('cave', 'NN'), (',', ','), ('she', 'PRP'), ('discovered', 'VBD'), ('an', 'DT'), ('ancient', 'JJ'), ('locket', 'NN'), ('with', 'IN'), ('intricate', 'JJ'), ('engravings', 'NNS'), ('and', 'CC'), ('a', 'DT'), ('faint', 'NN'), (',', ','), ('magical', 'JJ'), ('glow', 'NN'), ('.', '.')]\n",
      "As soon as she touched it, the locket came to life, revealing a tiny fairy named Lumina.\n",
      "[('As', 'RB'), ('soon', 'RB'), ('as', 'IN'), ('she', 'PRP'), ('touched', 'VBD'), ('it', 'PRP'), (',', ','), ('the', 'DT'), ('locket', 'NN'), ('came', 'VBD'), ('to', 'TO'), ('life', 'NN'), (',', ','), ('revealing', 'VBG'), ('a', 'DT'), ('tiny', 'JJ'), ('fairy', 'NN'), ('named', 'VBN'), ('Lumina', 'NNP'), ('.', '.')]\n",
      "Lumina explained that the locket held the power to transport its bearer to a realm of wonders.\n",
      "[('Lumina', 'NNP'), ('explained', 'VBD'), ('that', 'IN'), ('the', 'DT'), ('locket', 'NN'), ('held', 'VBD'), ('the', 'DT'), ('power', 'NN'), ('to', 'TO'), ('transport', 'VB'), ('its', 'PRP$'), ('bearer', 'NN'), ('to', 'TO'), ('a', 'DT'), ('realm', 'NN'), ('of', 'IN'), ('wonders', 'NNS'), ('.', '.')]\n",
      "Elara, captivated by the fairy's words, decided to embark on a journey through the enchanted realm.\n",
      "[('Elara', 'NNP'), (',', ','), ('captivated', 'VBN'), ('by', 'IN'), ('the', 'DT'), ('fairy', 'NN'), (\"'s\", 'POS'), ('words', 'NNS'), (',', ','), ('decided', 'VBD'), ('to', 'TO'), ('embark', 'VB'), ('on', 'IN'), ('a', 'DT'), ('journey', 'NN'), ('through', 'IN'), ('the', 'DT'), ('enchanted', 'JJ'), ('realm', 'NN'), ('.', '.')]\n",
      "With a touch of the locket, she found herself in a land of floating islands, talking animals, and mystical landscapes.\n",
      "[('With', 'IN'), ('a', 'DT'), ('touch', 'NN'), ('of', 'IN'), ('the', 'DT'), ('locket', 'NN'), (',', ','), ('she', 'PRP'), ('found', 'VBD'), ('herself', 'PRP'), ('in', 'IN'), ('a', 'DT'), ('land', 'NN'), ('of', 'IN'), ('floating', 'VBG'), ('islands', 'NNS'), (',', ','), ('talking', 'VBG'), ('animals', 'NNS'), (',', ','), ('and', 'CC'), ('mystical', 'JJ'), ('landscapes', 'NNS'), ('.', '.')]\n",
      "As Elara explored, she encountered challenges and made new friends.\n",
      "[('As', 'IN'), ('Elara', 'NNP'), ('explored', 'VBD'), (',', ','), ('she', 'PRP'), ('encountered', 'VBD'), ('challenges', 'NNS'), ('and', 'CC'), ('made', 'VBD'), ('new', 'JJ'), ('friends', 'NNS'), ('.', '.')]\n",
      "A wise old owl named Orion guided her through the towering Celestial Trees, and a mischievous water sprite named Naiad taught her the secrets of the Crystal Caves.\n",
      "[('A', 'DT'), ('wise', 'NN'), ('old', 'JJ'), ('owl', 'NN'), ('named', 'VBN'), ('Orion', 'NNP'), ('guided', 'VBD'), ('her', 'PRP$'), ('through', 'IN'), ('the', 'DT'), ('towering', 'VBG'), ('Celestial', 'NNP'), ('Trees', 'NNP'), (',', ','), ('and', 'CC'), ('a', 'DT'), ('mischievous', 'JJ'), ('water', 'NN'), ('sprite', 'NN'), ('named', 'VBN'), ('Naiad', 'NNP'), ('taught', 'VBD'), ('her', 'PRP$'), ('the', 'DT'), ('secrets', 'NNS'), ('of', 'IN'), ('the', 'DT'), ('Crystal', 'NNP'), ('Caves', 'NNPS'), ('.', '.')]\n",
      "Each adventure brought Elara closer to unraveling the mysteries of the enchanted realm.\n",
      "[('Each', 'DT'), ('adventure', 'NN'), ('brought', 'VBD'), ('Elara', 'NNP'), ('closer', 'NN'), ('to', 'TO'), ('unraveling', 'VBG'), ('the', 'DT'), ('mysteries', 'NNS'), ('of', 'IN'), ('the', 'DT'), ('enchanted', 'JJ'), ('realm', 'NN'), ('.', '.')]\n",
      "One day, as Elara stood on the edge of the Silver Cliff overlooking a breathtaking sunset, Lumina revealed the true purpose of the locket.\n",
      "[('One', 'CD'), ('day', 'NN'), (',', ','), ('as', 'IN'), ('Elara', 'NNP'), ('stood', 'VBD'), ('on', 'IN'), ('the', 'DT'), ('edge', 'NN'), ('of', 'IN'), ('the', 'DT'), ('Silver', 'NNP'), ('Cliff', 'NNP'), ('overlooking', 'VBG'), ('a', 'DT'), ('breathtaking', 'NN'), ('sunset', 'NN'), (',', ','), ('Lumina', 'NNP'), ('revealed', 'VBD'), ('the', 'DT'), ('true', 'JJ'), ('purpose', 'NN'), ('of', 'IN'), ('the', 'DT'), ('locket', 'NN'), ('.', '.')]\n",
      "It had chosen Elara to be the guardian of the realm, ensuring its magic remained in balance.\n",
      "[('It', 'PRP'), ('had', 'VBD'), ('chosen', 'VBN'), ('Elara', 'NNP'), ('to', 'TO'), ('be', 'VB'), ('the', 'DT'), ('guardian', 'NN'), ('of', 'IN'), ('the', 'DT'), ('realm', 'NN'), (',', ','), ('ensuring', 'VBG'), ('its', 'PRP$'), ('magic', 'NN'), ('remained', 'VBN'), ('in', 'IN'), ('balance', 'NN'), ('.', '.')]\n",
      "Elara, though hesitant at first, accepted the responsibility with grace.\n",
      "[('Elara', 'NNP'), (',', ','), ('though', 'RB'), ('hesitant', 'NN'), ('at', 'IN'), ('first', 'JJ'), (',', ','), ('accepted', 'VBD'), ('the', 'DT'), ('responsibility', 'NN'), ('with', 'IN'), ('grace', 'NN'), ('.', '.')]\n",
      "With the locket as her guide, Elara returned to her village, bringing with her the lessons and magic she had discovered.\n",
      "[('With', 'IN'), ('the', 'DT'), ('locket', 'NN'), ('as', 'IN'), ('her', 'PRP$'), ('guide', 'NN'), (',', ','), ('Elara', 'NNP'), ('returned', 'VBD'), ('to', 'TO'), ('her', 'PRP$'), ('village', 'NN'), (',', ','), ('bringing', 'VBG'), ('with', 'IN'), ('her', 'PRP$'), ('the', 'DT'), ('lessons', 'NNS'), ('and', 'CC'), ('magic', 'VB'), ('she', 'PRP'), ('had', 'VBD'), ('discovered', 'VBN'), ('.', '.')]\n",
      "The once-ordinary girl became a source of inspiration, sharing tales of the enchanted realm and encouraging others to embrace the magic within themselves.\n",
      "[('The', 'DT'), ('once-ordinary', 'JJ'), ('girl', 'NN'), ('became', 'VBD'), ('a', 'DT'), ('source', 'NN'), ('of', 'IN'), ('inspiration', 'NN'), (',', ','), ('sharing', 'VBG'), ('tales', 'NNS'), ('of', 'IN'), ('the', 'DT'), ('enchanted', 'JJ'), ('realm', 'NN'), ('and', 'CC'), ('encouraging', 'VBG'), ('others', 'NNS'), ('to', 'TO'), ('embrace', 'VB'), ('the', 'DT'), ('magic', 'NN'), ('within', 'IN'), ('themselves', 'PRP'), ('.', '.')]\n",
      "And so, Elara's ordinary life transformed into an extraordinary one, filled with the enchantment of the hidden realm and the joy of sharing its wonders with the world.\n",
      "[('And', 'CC'), ('so', 'RB'), (',', ','), ('Elara', 'NNP'), (\"'s\", 'POS'), ('ordinary', 'JJ'), ('life', 'NN'), ('transformed', 'VBD'), ('into', 'IN'), ('an', 'DT'), ('extraordinary', 'JJ'), ('one', 'CD'), (',', ','), ('filled', 'VBN'), ('with', 'IN'), ('the', 'DT'), ('enchantment', 'NN'), ('of', 'IN'), ('the', 'DT'), ('hidden', 'JJ'), ('realm', 'NN'), ('and', 'CC'), ('the', 'DT'), ('joy', 'NN'), ('of', 'IN'), ('sharing', 'VBG'), ('its', 'PRP$'), ('wonders', 'NNS'), ('with', 'IN'), ('the', 'DT'), ('world', 'NN'), ('.', '.')]\n"
     ]
    }
   ],
   "source": [
    "parser = ChartParser(grammar)\n",
    "\n",
    "for sentence in sentences:\n",
    "    words = nltk.word_tokenize(sentence)\n",
    "    tags = nltk.pos_tag(words)\n",
    "    print(sentence)\n",
    "    print(tags)\n",
    "    for tree in parser.parse(words):\n",
    "        print(tree)\n"
   ]
  }
 ],
 "metadata": {
  "kernelspec": {
   "display_name": "Python 3",
   "language": "python",
   "name": "python3"
  },
  "language_info": {
   "codemirror_mode": {
    "name": "ipython",
    "version": 3
   },
   "file_extension": ".py",
   "mimetype": "text/x-python",
   "name": "python",
   "nbconvert_exporter": "python",
   "pygments_lexer": "ipython3",
   "version": "3.10.11"
  }
 },
 "nbformat": 4,
 "nbformat_minor": 2
}
